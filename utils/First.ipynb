{
 "cells": [
  {
   "cell_type": "code",
   "execution_count": 8,
   "metadata": {},
   "outputs": [],
   "source": [
    "import numpy as np\n",
    "import tensorflow as tf\n",
    "import pandas as pd\n",
    "import matplotlib.pyplot as plt\n",
    "import warnings\n",
    "import re\n",
    "warnings.filterwarnings('ignore')"
   ]
  },
  {
   "cell_type": "code",
   "execution_count": 9,
   "metadata": {},
   "outputs": [],
   "source": [
    "from reportlab.pdfgen.canvas import Canvas\n",
    "import json\n",
    "from pathlib import Path"
   ]
  },
  {
   "cell_type": "code",
   "execution_count": 13,
   "metadata": {},
   "outputs": [
    {
     "name": "stdout",
     "output_type": "stream",
     "text": [
      "shortcuts.json\n"
     ]
    }
   ],
   "source": [
    "#read json file containing the shortcuts data\n",
    "SHORTCUTS_PATH = Path('./shortcuts.json')\n",
    "print(SHORTCUTS_PATH)"
   ]
  },
  {
   "cell_type": "code",
   "execution_count": 14,
   "metadata": {},
   "outputs": [],
   "source": [
    "import os"
   ]
  },
  {
   "cell_type": "code",
   "execution_count": 71,
   "metadata": {},
   "outputs": [
    {
     "name": "stdout",
     "output_type": "stream",
     "text": [
      "<class 'list'>\n"
     ]
    }
   ],
   "source": [
    "contents = ''\n",
    "with SHORTCUTS_PATH.open(mode='r') as f:\n",
    "    contents = json.load(f)\n",
    "print(type(contents))"
   ]
  },
  {
   "cell_type": "code",
   "execution_count": 72,
   "metadata": {},
   "outputs": [],
   "source": [
    "import reportlab\n",
    "import reportlab.lib as lib\n",
    "import reportlab.pdfgen as pdfgen"
   ]
  },
  {
   "cell_type": "code",
   "execution_count": 73,
   "metadata": {},
   "outputs": [
    {
     "data": {
      "text/plain": [
       "{'key': 'alt+q',\n",
       " 'command': 'editor.action.peekDefinition',\n",
       " 'when': 'editorHasDefinitionProvider && editorTextFocus && !inReferenceSearchEditor && !isInEmbeddedEditor'}"
      ]
     },
     "execution_count": 73,
     "metadata": {},
     "output_type": "execute_result"
    }
   ],
   "source": [
    "contents[0]"
   ]
  },
  {
   "cell_type": "code",
   "execution_count": 82,
   "metadata": {},
   "outputs": [
    {
     "name": "stdout",
     "output_type": "stream",
     "text": [
      "{'command': 'Editor.action.peekdefinition', 'key': 'Alt+f12'}\n"
     ]
    }
   ],
   "source": [
    "\"\"\"format the contents list so that each entry is a dict with the following keys: key and command, then format command\n",
    "    to be a string by first splitting by '.' and then taking the last element of the list\n",
    "\"\"\"\n",
    "format_contens = []\n",
    "for i in range(len(contents)):\n",
    "    format_contens.append({'command': contents[i]['command'].strip('-').capitalize(), 'key': contents[i]['key'].capitalize()})\n",
    "print(format_contens[1])\n"
   ]
  },
  {
   "cell_type": "code",
   "execution_count": 83,
   "metadata": {},
   "outputs": [
    {
     "data": {
      "text/plain": [
       "77"
      ]
     },
     "execution_count": 83,
     "metadata": {},
     "output_type": "execute_result"
    }
   ],
   "source": [
    "len(format_contens)"
   ]
  },
  {
   "cell_type": "code",
   "execution_count": 78,
   "metadata": {},
   "outputs": [],
   "source": [
    "canvas = Canvas(\"keywords.pdf\")"
   ]
  },
  {
   "cell_type": "code",
   "execution_count": 56,
   "metadata": {},
   "outputs": [],
   "source": [
    "canvas.setFont(\"Helvetica\", 18)"
   ]
  },
  {
   "cell_type": "code",
   "execution_count": 59,
   "metadata": {},
   "outputs": [],
   "source": [
    "#draw the entries from the list of dicts into the pdf, each entry is a new line\n",
    "for i in range(len(format_contens)):\n",
    "    canvas.drawString(100, 800 - (i * 20), format_contens[i])\n",
    "#save file\n",
    "canvas.save()"
   ]
  },
  {
   "cell_type": "code",
   "execution_count": 85,
   "metadata": {},
   "outputs": [
    {
     "name": "stdout",
     "output_type": "stream",
     "text": [
      "0\n",
      "21\n"
     ]
    }
   ],
   "source": [
    "from reportlab.pdfbase.pdfmetrics import stringWidth\n",
    "from reportlab.lib.pagesizes import A4\n",
    "from reportlab.pdfgen import canvas\n",
    "\n",
    "can = canvas.Canvas(\"keywords.pdf\", pagesize=A4)\n",
    "x = 40\n",
    "y = 840\n",
    "for i in range(len(format_contens)):\n",
    "    y = y - 30\n",
    "    if y < 30:\n",
    "        print(y)\n",
    "        can.showPage()\n",
    "        y = 840 - 9\n",
    "    # student name variable.\n",
    "    x = 15\n",
    "    # Content.\n",
    "    command = format_contens[i]['command'] + ' : '\n",
    "    key = format_contens[i]['key']\n",
    "\n",
    "    # drawString location calculation.\n",
    "\n",
    "    # First string.\n",
    "    can.setFont('Helvetica-Bold', 8)\n",
    "    can.drawString(x, y, command)\n",
    "    can.setFont('Helvetica', 8)\n",
    "    textWidth = stringWidth(command, 'Helvetica-Bold', 8) \n",
    "    x += textWidth + 1\n",
    "    can.drawString(x, y, key)\n",
    "\n",
    "   \n",
    "\n",
    "    \n",
    "can.save()"
   ]
  }
 ],
 "metadata": {
  "interpreter": {
   "hash": "27d26cfae7b5338c9c95c638a59b26e53eaa1b70e4169fca9e00aa795f48359e"
  },
  "kernelspec": {
   "display_name": "Python 3.8.12 64-bit ('env': venv)",
   "language": "python",
   "name": "python3"
  },
  "language_info": {
   "codemirror_mode": {
    "name": "ipython",
    "version": 3
   },
   "file_extension": ".py",
   "mimetype": "text/x-python",
   "name": "python",
   "nbconvert_exporter": "python",
   "pygments_lexer": "ipython3",
   "version": "3.8.10"
  },
  "orig_nbformat": 4
 },
 "nbformat": 4,
 "nbformat_minor": 2
}
